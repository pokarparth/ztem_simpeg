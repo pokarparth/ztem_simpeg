{
 "cells": [
  {
   "cell_type": "code",
   "execution_count": 3,
   "id": "7f3c69f0-d4a8-4b7b-9375-fde4e64b998f",
   "metadata": {
    "ExecuteTime": {
     "end_time": "2024-04-11T07:37:52.917282100Z",
     "start_time": "2024-04-11T07:37:48.882663900Z"
    }
   },
   "outputs": [
    {
     "data": {
      "application/javascript": "IPython.notebook.set_autosave_interval(0)"
     },
     "metadata": {},
     "output_type": "display_data"
    },
    {
     "name": "stdout",
     "output_type": "stream",
     "text": [
      "Autosave disabled\n"
     ]
    }
   ],
   "source": [
    "import numpy as np\n",
    "import time\n",
    "import discretize\n",
    "import matplotlib.pyplot as plt\n",
    "from matplotlib.colors import LogNorm, Normalize\n",
    "\n",
    "from pymatsolver import Pardiso as Solver\n",
    "from SimPEG import maps, data\n",
    "from SimPEG.meta import MultiprocessingMetaSimulation\n",
    "from SimPEG import maps, utils, data, optimization, maps, regularization, inverse_problem, directives, inversion, data_misfit\n",
    "from SimPEG.electromagnetics import natural_source as nsem\n",
    "from discretize.utils import mkvc, ndgrid, active_from_xyz\n",
    "from SimPEG.utils import plot2Ddata\n",
    "%autosave 0"
   ]
  },
  {
   "cell_type": "code",
   "execution_count": 4,
   "outputs": [],
   "source": [
    "# Load the topo\n",
    "dir = \"../data/field/\"\n",
    "topo = np.loadtxt(dir + \"topo.xyz\")"
   ],
   "metadata": {
    "collapsed": false,
    "ExecuteTime": {
     "end_time": "2024-04-11T07:37:54.613201100Z",
     "start_time": "2024-04-11T07:37:54.557652100Z"
    }
   }
  },
  {
   "cell_type": "code",
   "execution_count": null,
   "id": "23fe0544-97ac-4b06-8d1d-5f3d4fdcb21d",
   "metadata": {
    "is_executing": true,
    "ExecuteTime": {
     "start_time": "2024-04-11T07:37:55.268940700Z"
    }
   },
   "outputs": [],
   "source": [
    "# Import data as a list and rearrange the data based on frequencies\n",
    "data_by_freq = {}\n",
    "\n",
    "with open(dir + \"ztem_data.dat\", 'r') as file:\n",
    "    # Iterate over each line in the file\n",
    "    for line in file:\n",
    "        # If the line starts with \"frequency\", update the current frequency\n",
    "\n",
    "        if line.startswith(\"FREQUENCY\"):\n",
    "            current_freq = int(line.split()[1])  # Assuming the frequency is an integer\n",
    "            data_by_freq[current_freq] = []\n",
    "            n_recv = int(next(file).split()[1])  # Get the number of rows for the current frequency\n",
    "            for _ in range(n_recv):  # Read the next n_recv lines\n",
    "                row = [float(x) for x in next(file).split()]\n",
    "                row_without_zeros = [x for x in row if x != 0.0]  # Ignore columns with zeros\n",
    "                row_without_zeros.append(current_freq)  # Add the frequency as a new column\n",
    "                data_by_freq[current_freq].append(row_without_zeros)\n",
    "\n",
    "# Convert list to array organized as (x,y,z, Tzx_real,Tzx_imag, Tzy_real,Tzy_imag, freq)\n",
    "ztem_data = np.concatenate([np.array(data_by_freq[freq]) for freq in data_by_freq])\n",
    "# Define rotation matrix and rotate the data\n",
    "theta_1 = np.radians(45)  # Convert angle to radians\n",
    "theta_2 = np.radians(45)  # Convert angle to radians\n",
    "rotation_matrix_data = np.array([[np.cos(theta_1), - np.sin(theta_1)], [ np.sin(theta_1), np.cos(theta_1)]])\n",
    "rotation_matrix_topo = np.array([[np.cos(theta_2), - np.sin(theta_2)], [ np.sin(theta_2), np.cos(theta_2)]])\n",
    "\n",
    "\n",
    "# Apply the rotation matrix to each point\n",
    "rotated_xy_data = np.dot(ztem_data[:,:2], rotation_matrix_data.T)\n",
    "rotated_xy_topo = np.dot(topo[:,:2], rotation_matrix_topo.T)\n",
    "\n",
    "# Update the x and y coordinates in the data\n",
    "ztem_data[:,0] = rotated_xy_data[:,0]\n",
    "ztem_data[:,1] = rotated_xy_data[:,1]\n",
    "\n",
    "#Update the x and y coordinates in the topo\n",
    "topo[:,0] = rotated_xy_topo[:,0]\n",
    "topo[:,1] = rotated_xy_topo[:,1]\n",
    "\n",
    "def decimate_data(data, threshold, extent_data, outside_threshold):\n",
    "    decimated_data = [data[0]]  # Start with the first point\n",
    "\n",
    "    min_extent = np.min(extent_data, axis=0)\n",
    "    max_extent = np.max(extent_data, axis=0)\n",
    "\n",
    "    for point in data[1:]:\n",
    "        last_point = decimated_data[-1]\n",
    "        distance = np.sqrt((point[0] - last_point[0])**2 + (point[1] - last_point[1])**2 + (point[2] - last_point[2])**2)\n",
    "\n",
    "        if (point[0] < min_extent[0] or point[0] > max_extent[0] or\n",
    "            point[1] < min_extent[1] or point[1] > max_extent[1] or\n",
    "            point[2] < min_extent[2] or point[2] > max_extent[2]):\n",
    "            current_threshold = outside_threshold\n",
    "        else:\n",
    "            current_threshold = threshold\n",
    "\n",
    "        if distance > current_threshold:\n",
    "            decimated_data.append(point)\n",
    "\n",
    "    return np.array(decimated_data)\n",
    "\n",
    "# Use the function\n",
    "ztem_data_deci = decimate_data(ztem_data, threshold=800, extent_data=ztem_data, outside_threshold=800)\n",
    "topo_deci = decimate_data(topo, threshold=400, extent_data=ztem_data, outside_threshold=800)\n",
    "\n",
    "def rx_locs(data, freq):\n",
    "    rx_subset = data[data[:,-1] == freq]\n",
    "    rx_x = rx_subset[:, 0]\n",
    "    rx_y = rx_subset[:, 1]\n",
    "    rx_z = rx_subset[:, 2]\n",
    "    receiver_locations = np.c_[rx_x,rx_y,rx_z]\n",
    "    return receiver_locations\n",
    "receiver_locations = rx_locs(ztem_data_deci,30)"
   ]
  },
  {
   "cell_type": "code",
   "execution_count": 14,
   "id": "6cdbe5db-0299-46cb-99d5-7af47af39fc4",
   "metadata": {},
   "outputs": [],
   "source": [
    "def closest_value(mesh, target_value, axis):\n",
    "    \"\"\"\n",
    "    Find the value in the specified axis of the mesh that is closest to a target value.\n",
    "    \n",
    "    Parameters\n",
    "    ----------\n",
    "    mesh : object\n",
    "        The mesh object with attributes 'nodes_x', 'nodes_y', and 'nodes_z'.\n",
    "    target_value : float\n",
    "        The target value to find the closest value to.\n",
    "    axis : str\n",
    "        The axis to search for the closest value. Should be 'x', 'y', or 'z'.\n",
    "\n",
    "    Returns\n",
    "    -------\n",
    "    float\n",
    "        The value in the specified axis of the mesh that is closest to the target value.\n",
    "\n",
    "    Examples\n",
    "    --------\n",
    "    >>> mesh = Mesh(nodes_x=[1, 2, 3], nodes_y=[4, 5, 6], nodes_z=[7, 8, 9])\n",
    "    >>> closest_value(mesh, 8.1, 'z')\n",
    "    8\n",
    "    \"\"\"\n",
    "    nodes = getattr(mesh, f'nodes_{axis}')\n",
    "    differences = np.abs(nodes - target_value)\n",
    "    closest_index = np.argmin(differences)\n",
    "    closest_value = nodes[closest_index]\n",
    "    return closest_value"
   ]
  },
  {
   "cell_type": "code",
   "execution_count": 10,
   "id": "209eeed8-3a36-4cf2-8c35-fa83e182e3ad",
   "metadata": {},
   "outputs": [
    {
     "data": {
      "text/html": [
       "<table>\n",
       "<tr>\n",
       "<td style='font-weight: bold; font-size: 1.2em; text-align: center;'>OcTreeMesh</td>\n",
       "<td style='font-size: 1.2em; text-align: center;' colspan='2'>19.16% filled</td>\n",
       "</tr>\n",
       "<tr>\n",
       "<td>\n",
       "<table>\n",
       "<tr>\n",
       "<th style='padding: 5px 20px 5px 20px;'>Level</th>\n",
       "<th style='padding: 5px 20px 5px 20px;'>Number of cells</th>\n",
       "</tr>\n",
       "<tr>\n",
       "<td style='padding: 5px 20px 5px 20px;'>3</td>\n",
       "<td style='padding: 5px 20px 5px 20px;'>256</td>\n",
       "</tr>\n",
       "<tr>\n",
       "<td style='padding: 5px 20px 5px 20px;'>4</td>\n",
       "<td style='padding: 5px 20px 5px 20px;'>3553</td>\n",
       "</tr>\n",
       "<tr>\n",
       "<td style='padding: 5px 20px 5px 20px;'>5</td>\n",
       "<td style='padding: 5px 20px 5px 20px;'>9886</td>\n",
       "</tr>\n",
       "<tr>\n",
       "<td style='padding: 5px 20px 5px 20px;'>6</td>\n",
       "<td style='padding: 5px 20px 5px 20px;'>86736</td>\n",
       "</tr>\n",
       "<tr>\n",
       "<td style='font-weight: bold; padding: 5px 20px 5px 20px;'> Total </td>\n",
       "<td style='padding: 5px 20px 5px 20px;'> 100431 </td>\n",
       "</tr>\n",
       "</table>\n",
       "</td>\n",
       "<td>\n",
       "<table>\n",
       "<tr>\n",
       "<th></th>\n",
       "<th style='padding: 5px 20px 5px 20px;' colspan='2'>Mesh extent</th>\n",
       "<th style='padding: 5px 20px 5px 20px;' colspan='2'>Cell widths</th>\n",
       "</tr>\n",
       "<tr>\n",
       "<th></th>\n",
       "<th style='padding: 5px 20px 5px 20px;'>min</th>\n",
       "<th style='padding: 5px 20px 5px 20px;'>max</th>\n",
       "<th style='padding: 5px 20px 5px 20px;'>min</th>\n",
       "<th style='padding: 5px 20px 5px 20px;'>max</th>\n",
       "</tr>\n",
       "<tr>\n",
       "<td style='padding: 5px 20px 5px 20px;'>x</td>\n",
       "<td style='padding: 5px 20px 5px 20px;'>-2201060.861</td>\n",
       "<td style='padding: 5px 20px 5px 20px;'>-2160100.861</td>\n",
       "<td style='padding: 5px 20px 5px 20px;'>320.0</td>\n",
       "<td style='padding: 5px 20px 5px 20px;'>2560.0</td>\n",
       "</tr>\n",
       "<tr>\n",
       "<td style='padding: 5px 20px 5px 20px;'>y</td>\n",
       "<td style='padding: 5px 20px 5px 20px;'>2930265.4769</td>\n",
       "<td style='padding: 5px 20px 5px 20px;'>2971225.4769</td>\n",
       "<td style='padding: 5px 20px 5px 20px;'>320.0</td>\n",
       "<td style='padding: 5px 20px 5px 20px;'>2560.0</td>\n",
       "</tr>\n",
       "<tr>\n",
       "<td style='padding: 5px 20px 5px 20px;'>z</td>\n",
       "<td style='padding: 5px 20px 5px 20px;'>-1687.0466000000001</td>\n",
       "<td style='padding: 5px 20px 5px 20px;'>3432.9534</td>\n",
       "<td style='padding: 5px 20px 5px 20px;'>160.0</td>\n",
       "<td style='padding: 5px 20px 5px 20px;'>1280.0</td>\n",
       "</tr>\n",
       "</table>\n",
       "</td>\n",
       "</tr>\n",
       "</table>\n"
      ],
      "text/plain": [
       "\n",
       "OcTreeMesh: 19.16% filled\n",
       "\n",
       "Level : Number of cells               Mesh Extent               Cell Widths    \n",
       "-----------------------           min     ,     max            min   ,   max   \n",
       "  3   :       256            ---------------------------   --------------------\n",
       "  4   :      3553         x: -2201060.861 ,-2160100.861      320.0   ,   2560.0  \n",
       "  5   :      9886         y: 2930265.4769 ,2971225.4769      320.0   ,   2560.0  \n",
       "  6   :      86736        z: -1687.0466000000001,  3432.9534       160.0   ,   1280.0  \n",
       "-----------------------\n",
       "Total :     100431     "
      ]
     },
     "execution_count": 10,
     "metadata": {},
     "output_type": "execute_result"
    }
   ],
   "source": [
    "mesh = discretize.TreeMesh.read_UBC(\"ztem_field_deci_v3.msh\")\n",
    "mesh\n"
   ]
  },
  {
   "cell_type": "code",
   "execution_count": 11,
   "id": "f1dab40d-335b-45a1-985e-59d55f580941",
   "metadata": {},
   "outputs": [],
   "source": [
    "sig_back = 5e-3\n",
    "sig_air = 1e-6\n",
    "#Define active indices below topography\n",
    "active_inds = active_from_xyz(mesh, topo_deci, 'N')\n",
    "\n",
    "model = sig_air * np.ones(mesh.nC)\n",
    "model[active_inds] = sig_back\n",
    "halfspace = model.copy()\n",
    "actMap = maps.InjectActiveCells(mesh=mesh, indActive=active_inds, valInactive=np.log(sig_air))"
   ]
  },
  {
   "cell_type": "code",
   "execution_count": 19,
   "id": "85504523-258d-4887-9d5c-29291644135b",
   "metadata": {},
   "outputs": [
    {
     "data": {
      "text/plain": [
       "(70870,)"
      ]
     },
     "execution_count": 19,
     "metadata": {},
     "output_type": "execute_result"
    }
   ],
   "source": [
    "#dir = \"git/ztem_simpeg/data/field/\"InversionModel-2024-04-10-19-04.npy\n",
    "load_inv = np.load(\"002-InversionModel-2024-04-10-22-50.npy\")\n",
    "load_inv.shape"
   ]
  },
  {
   "cell_type": "code",
   "execution_count": 20,
   "id": "3c7b07c2-5ead-487b-b799-492e61987b1e",
   "metadata": {},
   "outputs": [],
   "source": [
    "plot_map = maps.ExpMap(mesh) * actMap\n",
    "mopt_rec = plot_map * load_inv"
   ]
  },
  {
   "cell_type": "code",
   "execution_count": null,
   "id": "71b15716-1840-4e62-896b-2f5b49f7224d",
   "metadata": {},
   "outputs": [],
   "source": []
  },
  {
   "cell_type": "code",
   "execution_count": 23,
   "id": "cfdea681-22bd-4d25-9731-edf6c6d35aa8",
   "metadata": {
    "ExecuteTime": {
     "end_time": "2024-04-11T01:55:39.530894560Z",
     "start_time": "2024-04-11T01:55:39.021582409Z"
    }
   },
   "outputs": [
    {
     "data": {
      "image/png": "[encoded data removed]",
      "text/plain": [
       "<Figure size 1200x600 with 2 Axes>"
      ]
     },
     "metadata": {},
     "output_type": "display_data"
    }
   ],
   "source": [
    "for i in range(8):\n",
    "    load_inv = np.load(f\"00{i+1}-InversionModel-2024-04-10-22-50.npy\")\n",
    "    # Plot the model\n",
    "    plot_map = maps.ExpMap(mesh) * actMap\n",
    "    mopt_rec = plot_map * load_inv\n",
    "    fig = plt.figure(figsize=(12, 6))\n",
    "    #plot_map = maps.LogMap(mesh)*model\n",
    "    # Select the axis\n",
    "    xlim = [np.min(receiver_locations[:, 0]), np.max(receiver_locations[:, 0])]\n",
    "    ylim = [np.min(receiver_locations[:, 1]), np.max(receiver_locations[:, 1])]\n",
    "    zlim = [-2000, 2000]\n",
    "\n",
    "    slice_axis = 'x'  # Change this to 'x', 'y', or 'z' as needed\n",
    "\n",
    "    # Find index of the mesh where the selected axis is approximately equal to the target value\n",
    "    plot_ind = np.where(getattr(mesh, f'nodes_{slice_axis}') == closest_value(mesh, -2181220, slice_axis))[0][0]\n",
    "\n",
    "    ax1 = fig.add_subplot(121)\n",
    "    out = mesh.plot_slice(np.log10(mopt_rec), normal=slice_axis.upper(), ax=ax1, ind=plot_ind, grid=True, pcolor_opts={\"vmin\":np.log10(sig_air), \"vmax\":np.log10(10)})\n",
    "    cb = plt.colorbar(out[0], orientation=\"vertical\")\n",
    "\n",
    "    ax1.set_title(f\"Model slice at {slice_axis} = {getattr(mesh, f'nodes_{slice_axis}')[int(plot_ind)]}m\")\n",
    "\n",
    "    if slice_axis == 'y' or slice_axis == 'x':\n",
    "        ax1.set_ylim(zlim)\n",
    "        if slice_axis == 'y':\n",
    "            ax1.set_xlim(xlim)\n",
    "            ax1.set_xlabel('x (m)')\n",
    "        else:\n",
    "            ax1.set_xlim(ylim)\n",
    "            ax1.set_xlabel('y (m)')\n",
    "        ax1.set_ylabel('Z (m)')\n",
    "    else:\n",
    "        ax1.set_ylim(ylim)\n",
    "        ax1.set_xlim(xlim)\n",
    "        #plt.plot(receiver_locations[:, 0], receiver_locations[:, 1], 'r.',alpha=0.25)\n",
    "        ax1.set_xlabel('x (m)')\n",
    "        ax1.set_ylabel('y (m)')"
   ]
  },
  {
   "cell_type": "code",
   "execution_count": null,
   "id": "315a6f33f1a0a172",
   "metadata": {
    "collapsed": false,
    "jupyter": {
     "outputs_hidden": false
    }
   },
   "outputs": [],
   "source": []
  }
 ],
 "metadata": {
  "kernelspec": {
   "display_name": "Python 3 (ipykernel)",
   "language": "python",
   "name": "python3"
  },
  "language_info": {
   "codemirror_mode": {
    "name": "ipython",
    "version": 3
   },
   "file_extension": ".py",
   "mimetype": "text/x-python",
   "name": "python",
   "nbconvert_exporter": "python",
   "pygments_lexer": "ipython3",
   "version": "3.11.8"
  }
 },
 "nbformat": 4,
 "nbformat_minor": 5
}
