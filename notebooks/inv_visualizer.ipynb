{
 "cells": [
  {
   "cell_type": "code",
   "id": "7f3c69f0-d4a8-4b7b-9375-fde4e64b998f",
   "metadata": {
    "ExecuteTime": {
     "end_time": "2024-04-26T09:11:46.789658Z",
     "start_time": "2024-04-26T09:11:36.416602Z"
    }
   },
   "source": [
    "import numpy as np\n",
    "import time\n",
    "import discretize\n",
    "import matplotlib.pyplot as plt\n",
    "from matplotlib.colors import LogNorm, Normalize\n",
    "\n",
    "from pymatsolver import Pardiso as Solver\n",
    "from SimPEG import maps, data\n",
    "from SimPEG.meta import MultiprocessingMetaSimulation\n",
    "from SimPEG import maps, utils, data, optimization, maps, regularization, inverse_problem, directives, inversion, data_misfit\n",
    "from SimPEG.electromagnetics import natural_source as nsem\n",
    "from discretize.utils import mkvc, ndgrid, active_from_xyz\n",
    "from SimPEG.utils import plot2Ddata\n",
    "%autosave 0"
   ],
   "outputs": [
    {
     "data": {
      "application/javascript": "IPython.notebook.set_autosave_interval(0)"
     },
     "metadata": {},
     "output_type": "display_data"
    },
    {
     "name": "stdout",
     "output_type": "stream",
     "text": [
      "Autosave disabled\n"
     ]
    }
   ],
   "execution_count": 1
  },
  {
   "cell_type": "code",
   "source": [
    "# Load the topo\n",
    "dir = \"../data/field/\"\n",
    "topo = np.loadtxt(dir + \"topo.xyz\")"
   ],
   "metadata": {
    "collapsed": false,
    "ExecuteTime": {
     "end_time": "2024-04-26T09:14:37.818634Z",
     "start_time": "2024-04-26T09:14:36.318168Z"
    }
   },
   "id": "32620c288ae51d82",
   "outputs": [],
   "execution_count": 2
  },
  {
   "cell_type": "code",
   "id": "23fe0544-97ac-4b06-8d1d-5f3d4fdcb21d",
   "metadata": {
    "is_executing": true,
    "ExecuteTime": {
     "end_time": "2024-04-26T09:14:41.860885Z",
     "start_time": "2024-04-26T09:14:37.841656Z"
    }
   },
   "source": [
    "# Import data as a list and rearrange the data based on frequencies\n",
    "data_by_freq = {}\n",
    "\n",
    "with open(dir + \"ztem_data.dat\", 'r') as file:\n",
    "    # Iterate over each line in the file\n",
    "    for line in file:\n",
    "        # If the line starts with \"frequency\", update the current frequency\n",
    "\n",
    "        if line.startswith(\"FREQUENCY\"):\n",
    "            current_freq = int(line.split()[1])  # Assuming the frequency is an integer\n",
    "            data_by_freq[current_freq] = []\n",
    "            n_recv = int(next(file).split()[1])  # Get the number of rows for the current frequency\n",
    "            for _ in range(n_recv):  # Read the next n_recv lines\n",
    "                row = [float(x) for x in next(file).split()]\n",
    "                row_without_zeros = [x for x in row if x != 0.0]  # Ignore columns with zeros\n",
    "                row_without_zeros.append(current_freq)  # Add the frequency as a new column\n",
    "                data_by_freq[current_freq].append(row_without_zeros)\n",
    "\n",
    "# Convert list to array organized as (x,y,z, Tzx_real,Tzx_imag, Tzy_real,Tzy_imag, freq)\n",
    "ztem_data = np.concatenate([np.array(data_by_freq[freq]) for freq in data_by_freq])\n",
    "# Define rotation matrix and rotate the data\n",
    "theta_1 = np.radians(45)  # Convert angle to radians\n",
    "theta_2 = np.radians(45)  # Convert angle to radians\n",
    "rotation_matrix_data = np.array([[np.cos(theta_1), - np.sin(theta_1)], [ np.sin(theta_1), np.cos(theta_1)]])\n",
    "rotation_matrix_topo = np.array([[np.cos(theta_2), - np.sin(theta_2)], [ np.sin(theta_2), np.cos(theta_2)]])\n",
    "\n",
    "\n",
    "# Apply the rotation matrix to each point\n",
    "rotated_xy_data = np.dot(ztem_data[:,:2], rotation_matrix_data.T)\n",
    "rotated_xy_topo = np.dot(topo[:,:2], rotation_matrix_topo.T)\n",
    "\n",
    "# Update the x and y coordinates in the data\n",
    "ztem_data[:,0] = rotated_xy_data[:,0]\n",
    "ztem_data[:,1] = rotated_xy_data[:,1]\n",
    "\n",
    "#Update the x and y coordinates in the topo\n",
    "topo[:,0] = rotated_xy_topo[:,0]\n",
    "topo[:,1] = rotated_xy_topo[:,1]\n",
    "\n",
    "def decimate_data(data, threshold, extent_data, outside_threshold):\n",
    "    decimated_data = [data[0]]  # Start with the first point\n",
    "\n",
    "    min_extent = np.min(extent_data, axis=0)\n",
    "    max_extent = np.max(extent_data, axis=0)\n",
    "\n",
    "    for point in data[1:]:\n",
    "        last_point = decimated_data[-1]\n",
    "        distance = np.sqrt((point[0] - last_point[0])**2 + (point[1] - last_point[1])**2 + (point[2] - last_point[2])**2)\n",
    "\n",
    "        if (point[0] < min_extent[0] or point[0] > max_extent[0] or\n",
    "            point[1] < min_extent[1] or point[1] > max_extent[1] or\n",
    "            point[2] < min_extent[2] or point[2] > max_extent[2]):\n",
    "            current_threshold = outside_threshold\n",
    "        else:\n",
    "            current_threshold = threshold\n",
    "\n",
    "        if distance > current_threshold:\n",
    "            decimated_data.append(point)\n",
    "\n",
    "    return np.array(decimated_data)\n",
    "\n",
    "# Use the function\n",
    "ztem_data_deci = decimate_data(ztem_data, threshold=800, extent_data=ztem_data, outside_threshold=800)\n",
    "topo_deci = decimate_data(topo, threshold=400, extent_data=ztem_data, outside_threshold=800)\n",
    "\n",
    "def rx_locs(data, freq):\n",
    "    rx_subset = data[data[:,-1] == freq]\n",
    "    rx_x = rx_subset[:, 0]\n",
    "    rx_y = rx_subset[:, 1]\n",
    "    rx_z = rx_subset[:, 2]\n",
    "    receiver_locations = np.c_[rx_x,rx_y,rx_z]\n",
    "    return receiver_locations\n",
    "receiver_locations = rx_locs(ztem_data_deci,30)"
   ],
   "outputs": [],
   "execution_count": 3
  },
  {
   "cell_type": "code",
   "id": "6cdbe5db-0299-46cb-99d5-7af47af39fc4",
   "metadata": {
    "ExecuteTime": {
     "end_time": "2024-04-26T09:14:41.876176Z",
     "start_time": "2024-04-26T09:14:41.862897Z"
    }
   },
   "source": [
    "def closest_value(mesh, target_value, axis):\n",
    "    \"\"\"\n",
    "    Find the value in the specified axis of the mesh that is closest to a target value.\n",
    "    \n",
    "    Parameters\n",
    "    ----------\n",
    "    mesh : object\n",
    "        The mesh object with attributes 'nodes_x', 'nodes_y', and 'nodes_z'.\n",
    "    target_value : float\n",
    "        The target value to find the closest value to.\n",
    "    axis : str\n",
    "        The axis to search for the closest value. Should be 'x', 'y', or 'z'.\n",
    "\n",
    "    Returns\n",
    "    -------\n",
    "    float\n",
    "        The value in the specified axis of the mesh that is closest to the target value.\n",
    "\n",
    "    Examples\n",
    "    --------\n",
    "    >>> mesh = Mesh(nodes_x=[1, 2, 3], nodes_y=[4, 5, 6], nodes_z=[7, 8, 9])\n",
    "    >>> closest_value(mesh, 8.1, 'z')\n",
    "    8\n",
    "    \"\"\"\n",
    "    nodes = getattr(mesh, f'nodes_{axis}')\n",
    "    differences = np.abs(nodes - target_value)\n",
    "    closest_index = np.argmin(differences)\n",
    "    closest_value = nodes[closest_index]\n",
    "    return closest_value"
   ],
   "outputs": [],
   "execution_count": 4
  },
  {
   "metadata": {
    "ExecuteTime": {
     "end_time": "2024-04-26T09:18:23.549289Z",
     "start_time": "2024-04-26T09:18:23.456753Z"
    }
   },
   "cell_type": "code",
   "source": [
    "# Define rotation matrix and rotate the data\n",
    "theta_3 = np.radians(-45)  # Convert angle to radians\n",
    "\n",
    "rotation_matrix_model = np.array([[np.cos(theta_3), - np.sin(theta_3)], [ np.sin(theta_3), np.cos(theta_3)]])\n",
    "\n",
    "\n"
   ],
   "id": "e3c76a1574290dc0",
   "outputs": [],
   "execution_count": 12
  },
  {
   "cell_type": "code",
   "id": "209eeed8-3a36-4cf2-8c35-fa83e182e3ad",
   "metadata": {
    "ExecuteTime": {
     "end_time": "2024-04-26T09:16:20.230758Z",
     "start_time": "2024-04-26T09:16:17.860418Z"
    }
   },
   "source": [
    "mesh = discretize.TreeMesh.read_UBC(\"../inv_models/field/depth_weighting/ztem_field_deci_v3.msh\")\n",
    "mesh\n"
   ],
   "outputs": [
    {
     "data": {
      "text/plain": [
       "\n",
       "OcTreeMesh: 19.16% filled\n",
       "\n",
       "Level : Number of cells               Mesh Extent               Cell Widths    \n",
       "-----------------------           min     ,     max            min   ,   max   \n",
       "  3   :       256            ---------------------------   --------------------\n",
       "  4   :      3553         x: -2201060.861 ,-2160100.861      320.0   ,   2560.0  \n",
       "  5   :      9886         y: 2930265.4769 ,2971225.4769      320.0   ,   2560.0  \n",
       "  6   :      86736        z: -1687.0466000000001,  3432.9534       160.0   ,   1280.0  \n",
       "-----------------------\n",
       "Total :     100431     "
      ],
      "text/html": [
       "<table>\n",
       "<tr>\n",
       "<td style='font-weight: bold; font-size: 1.2em; text-align: center;'>OcTreeMesh</td>\n",
       "<td style='font-size: 1.2em; text-align: center;' colspan='2'>19.16% filled</td>\n",
       "</tr>\n",
       "<tr>\n",
       "<td>\n",
       "<table>\n",
       "<tr>\n",
       "<th style='padding: 5px 20px 5px 20px;'>Level</th>\n",
       "<th style='padding: 5px 20px 5px 20px;'>Number of cells</th>\n",
       "</tr>\n",
       "<tr>\n",
       "<td style='padding: 5px 20px 5px 20px;'>3</td>\n",
       "<td style='padding: 5px 20px 5px 20px;'>256</td>\n",
       "</tr>\n",
       "<tr>\n",
       "<td style='padding: 5px 20px 5px 20px;'>4</td>\n",
       "<td style='padding: 5px 20px 5px 20px;'>3553</td>\n",
       "</tr>\n",
       "<tr>\n",
       "<td style='padding: 5px 20px 5px 20px;'>5</td>\n",
       "<td style='padding: 5px 20px 5px 20px;'>9886</td>\n",
       "</tr>\n",
       "<tr>\n",
       "<td style='padding: 5px 20px 5px 20px;'>6</td>\n",
       "<td style='padding: 5px 20px 5px 20px;'>86736</td>\n",
       "</tr>\n",
       "<tr>\n",
       "<td style='font-weight: bold; padding: 5px 20px 5px 20px;'> Total </td>\n",
       "<td style='padding: 5px 20px 5px 20px;'> 100431 </td>\n",
       "</tr>\n",
       "</table>\n",
       "</td>\n",
       "<td>\n",
       "<table>\n",
       "<tr>\n",
       "<th></th>\n",
       "<th style='padding: 5px 20px 5px 20px;' colspan='2'>Mesh extent</th>\n",
       "<th style='padding: 5px 20px 5px 20px;' colspan='2'>Cell widths</th>\n",
       "</tr>\n",
       "<tr>\n",
       "<th></th>\n",
       "<th style='padding: 5px 20px 5px 20px;'>min</th>\n",
       "<th style='padding: 5px 20px 5px 20px;'>max</th>\n",
       "<th style='padding: 5px 20px 5px 20px;'>min</th>\n",
       "<th style='padding: 5px 20px 5px 20px;'>max</th>\n",
       "</tr>\n",
       "<tr>\n",
       "<td style='padding: 5px 20px 5px 20px;'>x</td>\n",
       "<td style='padding: 5px 20px 5px 20px;'>-2201060.861</td>\n",
       "<td style='padding: 5px 20px 5px 20px;'>-2160100.861</td>\n",
       "<td style='padding: 5px 20px 5px 20px;'>320.0</td>\n",
       "<td style='padding: 5px 20px 5px 20px;'>2560.0</td>\n",
       "</tr>\n",
       "<tr>\n",
       "<td style='padding: 5px 20px 5px 20px;'>y</td>\n",
       "<td style='padding: 5px 20px 5px 20px;'>2930265.4769</td>\n",
       "<td style='padding: 5px 20px 5px 20px;'>2971225.4769</td>\n",
       "<td style='padding: 5px 20px 5px 20px;'>320.0</td>\n",
       "<td style='padding: 5px 20px 5px 20px;'>2560.0</td>\n",
       "</tr>\n",
       "<tr>\n",
       "<td style='padding: 5px 20px 5px 20px;'>z</td>\n",
       "<td style='padding: 5px 20px 5px 20px;'>-1687.0466000000001</td>\n",
       "<td style='padding: 5px 20px 5px 20px;'>3432.9534</td>\n",
       "<td style='padding: 5px 20px 5px 20px;'>160.0</td>\n",
       "<td style='padding: 5px 20px 5px 20px;'>1280.0</td>\n",
       "</tr>\n",
       "</table>\n",
       "</td>\n",
       "</tr>\n",
       "</table>\n"
      ]
     },
     "execution_count": 7,
     "metadata": {},
     "output_type": "execute_result"
    }
   ],
   "execution_count": 7
  },
  {
   "cell_type": "code",
   "id": "f1dab40d-335b-45a1-985e-59d55f580941",
   "metadata": {
    "ExecuteTime": {
     "end_time": "2024-04-26T09:16:29.331461Z",
     "start_time": "2024-04-26T09:16:28.121467Z"
    }
   },
   "source": [
    "sig_back = 5e-3\n",
    "sig_air = 1e-6\n"
   ],
   "outputs": [],
   "execution_count": 8
  },
  {
   "cell_type": "code",
   "id": "85504523-258d-4887-9d5c-29291644135b",
   "metadata": {
    "ExecuteTime": {
     "end_time": "2024-04-26T21:32:42.085785Z",
     "start_time": "2024-04-26T21:32:33.711367Z"
    }
   },
   "source": [
    "#dir = \"git/ztem_simpeg/data/field/\"InversionModel-2024-04-10-19-04.npy\n",
    "load_inv_depth_wt = np.load(\"../inv_models/field/depth_weighting/005-InversionModel-2024-04-26-13-30.npy\")\n",
    "mesh_depth_wt = discretize.TreeMesh.read_UBC(\"../inv_models/field/depth_weighting/ztem_field_deci_v2_depth_wt.msh\")\n",
    "\n",
    "\n",
    "load_inv_no_depth_wt = np.load(\"../inv_models/field/no_depth_weighting/005-InversionModel-2024-04-26-02-39.npy\")\n",
    "mesh_no_depth_wt = discretize.TreeMesh.read_UBC(\"../inv_models/field/no_depth_weighting/ztem_field_deci_v2_no_depth_wt.msh\")\n",
    "\n"
   ],
   "outputs": [],
   "execution_count": 81
  },
  {
   "metadata": {
    "ExecuteTime": {
     "end_time": "2024-04-26T21:39:01.143772Z",
     "start_time": "2024-04-26T21:39:01.121143Z"
    }
   },
   "cell_type": "code",
   "source": [
    "def plot_model_slice(load_inv, mesh, receiver_locations, slice_axis='x'):\n",
    "    #Define active indices below topography\n",
    "    active_inds = active_from_xyz(mesh, topo_deci, 'N')\n",
    "\n",
    "    model = sig_air * np.ones(mesh.nC)\n",
    "    model[active_inds] = sig_back\n",
    "    halfspace = model.copy()\n",
    "    actMap = maps.InjectActiveCells(mesh=mesh, indActive=active_inds, valInactive=np.log(sig_air))\n",
    "    plot_map = maps.ExpMap(mesh) * actMap\n",
    "    mopt_rec = plot_map * load_inv\n",
    "    fig = plt.figure(figsize=(12, 6))\n",
    "\n",
    "    xlim = [np.min(receiver_locations[:, 0]), np.max(receiver_locations[:, 0])]\n",
    "    ylim = [np.min(receiver_locations[:, 1]), np.max(receiver_locations[:, 1])]\n",
    "    zlim = [-1500, 2000]\n",
    "\n",
    "    plot_ind = np.where(getattr(mesh, f'nodes_{slice_axis}') == closest_value(mesh, -2181220, slice_axis))[0][0]\n",
    "\n",
    "    ax1 = fig.add_subplot(121)\n",
    "    out = mesh.plot_slice(np.log10(mopt_rec), normal=slice_axis.upper(), ax=ax1, ind=plot_ind, grid=True, pcolor_opts={\"vmin\":np.log10(1e-3), \"vmax\":np.log10(0.1)})\n",
    "    cb = plt.colorbar(out[0], orientation=\"vertical\")\n",
    "    cb.set_label(\"Conductivity (S/m)\")\n",
    "\n",
    "    ax1.set_title(f\"Model slice at {slice_axis} = {getattr(mesh, f'nodes_{slice_axis}')[int(plot_ind)]}m\")\n",
    "\n",
    "    if slice_axis == 'y' or slice_axis == 'x':\n",
    "        ax1.set_ylim(zlim)\n",
    "        if slice_axis == 'y':\n",
    "            ax1.set_xlim(xlim)\n",
    "            ax1.set_xlabel('x (m)')\n",
    "        else:\n",
    "            ax1.set_xlim(ylim)\n",
    "            ax1.set_xlabel('y (m)')\n",
    "        ax1.set_ylabel('Z (m)')\n",
    "    else:\n",
    "        ax1.set_ylim(ylim)\n",
    "        ax1.set_xlim(xlim)\n",
    "        ax1.set_xlabel('x (m)')\n",
    "        ax1.set_ylabel('y (m)')\n",
    "\n",
    "    plt.show()"
   ],
   "id": "108ca86174397ca8",
   "outputs": [],
   "execution_count": 100
  },
  {
   "metadata": {
    "ExecuteTime": {
     "end_time": "2024-04-26T21:39:03.708162Z",
     "start_time": "2024-04-26T21:39:01.638320Z"
    }
   },
   "cell_type": "code",
   "source": [
    "plot_model_slice(load_inv_no_depth_wt, mesh_no_depth_wt, receiver_locations, slice_axis='x')\n",
    "plot_model_slice(load_inv_depth_wt, mesh_depth_wt, receiver_locations, slice_axis='x')"
   ],
   "id": "6eaa63f182c29d34",
   "outputs": [
    {
     "data": {
      "text/plain": [
       "<Figure size 1200x600 with 2 Axes>"
      ],
      "image/png": "[encoded data removed]"
     },
     "metadata": {},
     "output_type": "display_data"
    },
    {
     "data": {
      "text/plain": [
       "<Figure size 1200x600 with 2 Axes>"
      ],
      "image/png": "[encoded data removed]"
     },
     "metadata": {},
     "output_type": "display_data"
    }
   ],
   "execution_count": 101
  },
  {
   "metadata": {
    "ExecuteTime": {
     "end_time": "2024-04-26T09:53:02.668201Z",
     "start_time": "2024-04-26T09:52:53.890758Z"
    }
   },
   "cell_type": "code",
   "source": [
    "load_inv_giftools = mesh.read_model_UBC(r\"C:\\Users\\parth\\OneDrive_UBC\\Masters\\2023-2024\\EOSC_556B_Lindsey_Inv\\Project\\comprehensive_workflow_mt_ztem\\mt_ztem_workflow_results\\inv_ztem_002_smoothest\\inv_006.con\")\n",
    "mesh_giftools = mesh.read_UBC(r\"C:\\Users\\parth\\OneDrive_UBC\\Masters\\2023-2024\\EOSC_556B_Lindsey_Inv\\Project\\comprehensive_workflow_mt_ztem\\mt_ztem_workflow_results\\inv_ztem_002_smoothest\\ztem_octree_mesh.msh\")"
   ],
   "id": "c910f1b31ca35837",
   "outputs": [],
   "execution_count": 53
  },
  {
   "metadata": {
    "ExecuteTime": {
     "end_time": "2024-04-26T09:49:28.567296Z",
     "start_time": "2024-04-26T09:49:28.493443Z"
    }
   },
   "cell_type": "code",
   "source": [
    "active_inds = np.loadtxt(r\"C:\\Users\\parth\\OneDrive_UBC\\Masters\\2023-2024\\EOSC_556B_Lindsey_Inv\\Project\\comprehensive_workflow_mt_ztem\\mt_ztem_workflow_results\\inv_ztem_002_smoothest\\ztem_active_cells.act\",)\n",
    "active_inds = (active_inds != 0)"
   ],
   "id": "50c6b00ea25e1875",
   "outputs": [],
   "execution_count": 43
  },
  {
   "metadata": {
    "ExecuteTime": {
     "end_time": "2024-04-26T09:53:15.760648Z",
     "start_time": "2024-04-26T09:53:15.751569Z"
    }
   },
   "cell_type": "code",
   "source": "load_inv_giftools.shape",
   "id": "e027661152d4451",
   "outputs": [
    {
     "data": {
      "text/plain": [
       "(206271,)"
      ]
     },
     "execution_count": 57,
     "metadata": {},
     "output_type": "execute_result"
    }
   ],
   "execution_count": 57
  },
  {
   "metadata": {
    "ExecuteTime": {
     "end_time": "2024-04-26T09:49:32.642540Z",
     "start_time": "2024-04-26T09:49:31.795116Z"
    }
   },
   "cell_type": "code",
   "source": [
    "mesh = mesh_giftools\n",
    "load_inv = load_inv_giftools\n",
    "slice_axis = 'x'\n",
    "\n",
    "model = sig_air * np.ones(mesh.nC)\n",
    "model[active_inds] = sig_back\n",
    "halfspace = model.copy()\n",
    "actMap = maps.InjectActiveCells(mesh=mesh, indActive=active_inds, valInactive=np.log(sig_air))\n",
    "plot_map = maps.ExpMap(mesh) * actMap\n",
    "mopt_rec = plot_map * load_inv\n",
    "fig = plt.figure(figsize=(12, 6))\n",
    "\n",
    "#xlim = [np.min(receiver_locations[:, 0]), np.max(receiver_locations[:, 0])]\n",
    "#ylim = [np.min(receiver_locations[:, 1]), np.max(receiver_locations[:, 1])]\n",
    "zlim = [-2000, 2000]\n",
    "\n",
    "plot_ind = np.where(getattr(mesh, f'nodes_{slice_axis}') == closest_value(mesh, -2181220, slice_axis))[0][0]\n",
    "\n",
    "ax1 = fig.add_subplot(121)\n",
    "out = mesh.plot_slice(np.log10(mopt_rec), normal=slice_axis.upper(), ax=ax1, ind=plot_ind, grid=True, pcolor_opts={\"vmin\":np.log10(1e-4), \"vmax\":np.log10(0.1)})\n",
    "cb = plt.colorbar(out[0], orientation=\"vertical\")\n",
    "\n",
    "ax1.set_title(f\"Model slice at {slice_axis} = {getattr(mesh, f'nodes_{slice_axis}')[int(plot_ind)]}m\")\n",
    "\n",
    "if slice_axis == 'y' or slice_axis == 'x':\n",
    "    #ax1.set_ylim(zlim)\n",
    "    if slice_axis == 'y':\n",
    "        #ax1.set_xlim(xlim)\n",
    "        ax1.set_xlabel('x (m)')\n",
    "    else:\n",
    "        #ax1.set_xlim(ylim)\n",
    "        ax1.set_xlabel('y (m)')\n",
    "    ax1.set_ylabel('Z (m)')\n",
    "else:\n",
    "    #ax1.set_ylim(ylim)\n",
    "    #ax1.set_xlim(xlim)\n",
    "    ax1.set_xlabel('x (m)')\n",
    "    ax1.set_ylabel('y (m)')\n",
    "\n",
    "plt.show()"
   ],
   "id": "3487ba19bc82ef6",
   "outputs": [
    {
     "ename": "ValueError",
     "evalue": "Dimension mismatch in ComboMap[ExpMap(206271,206271) * InjectActiveCells(206271,140766)](206271,140766) and np.ndarray(100431,).",
     "output_type": "error",
     "traceback": [
      "\u001B[1;31m---------------------------------------------------------------------------\u001B[0m",
      "\u001B[1;31mValueError\u001B[0m                                Traceback (most recent call last)",
      "Cell \u001B[1;32mIn[44], line 10\u001B[0m\n\u001B[0;32m      8\u001B[0m actMap \u001B[38;5;241m=\u001B[39m maps\u001B[38;5;241m.\u001B[39mInjectActiveCells(mesh\u001B[38;5;241m=\u001B[39mmesh, indActive\u001B[38;5;241m=\u001B[39mactive_inds, valInactive\u001B[38;5;241m=\u001B[39mnp\u001B[38;5;241m.\u001B[39mlog(sig_air))\n\u001B[0;32m      9\u001B[0m plot_map \u001B[38;5;241m=\u001B[39m maps\u001B[38;5;241m.\u001B[39mExpMap(mesh) \u001B[38;5;241m*\u001B[39m actMap\n\u001B[1;32m---> 10\u001B[0m mopt_rec \u001B[38;5;241m=\u001B[39m \u001B[43mplot_map\u001B[49m\u001B[43m \u001B[49m\u001B[38;5;241;43m*\u001B[39;49m\u001B[43m \u001B[49m\u001B[43mload_inv\u001B[49m\n\u001B[0;32m     11\u001B[0m fig \u001B[38;5;241m=\u001B[39m plt\u001B[38;5;241m.\u001B[39mfigure(figsize\u001B[38;5;241m=\u001B[39m(\u001B[38;5;241m12\u001B[39m, \u001B[38;5;241m6\u001B[39m))\n\u001B[0;32m     13\u001B[0m \u001B[38;5;66;03m#xlim = [np.min(receiver_locations[:, 0]), np.max(receiver_locations[:, 0])]\u001B[39;00m\n\u001B[0;32m     14\u001B[0m \u001B[38;5;66;03m#ylim = [np.min(receiver_locations[:, 1]), np.max(receiver_locations[:, 1])]\u001B[39;00m\n",
      "File \u001B[1;32mC:\\ProgramData\\anaconda3\\envs\\ztem_simpeg\\Lib\\site-packages\\SimPEG\\maps.py:244\u001B[0m, in \u001B[0;36mIdentityMap.__mul__\u001B[1;34m(self, val)\u001B[0m\n\u001B[0;32m    242\u001B[0m \u001B[38;5;28;01melif\u001B[39;00m \u001B[38;5;28misinstance\u001B[39m(val, np\u001B[38;5;241m.\u001B[39mndarray):\n\u001B[0;32m    243\u001B[0m     \u001B[38;5;28;01mif\u001B[39;00m \u001B[38;5;129;01mnot\u001B[39;00m \u001B[38;5;28mself\u001B[39m\u001B[38;5;241m.\u001B[39mshape[\u001B[38;5;241m1\u001B[39m] \u001B[38;5;241m==\u001B[39m \u001B[38;5;124m\"\u001B[39m\u001B[38;5;124m*\u001B[39m\u001B[38;5;124m\"\u001B[39m \u001B[38;5;129;01mand\u001B[39;00m \u001B[38;5;129;01mnot\u001B[39;00m \u001B[38;5;28mself\u001B[39m\u001B[38;5;241m.\u001B[39mshape[\u001B[38;5;241m1\u001B[39m] \u001B[38;5;241m==\u001B[39m val\u001B[38;5;241m.\u001B[39mshape[\u001B[38;5;241m0\u001B[39m]:\n\u001B[1;32m--> 244\u001B[0m         \u001B[38;5;28;01mraise\u001B[39;00m \u001B[38;5;167;01mValueError\u001B[39;00m(\n\u001B[0;32m    245\u001B[0m             \u001B[38;5;124m\"\u001B[39m\u001B[38;5;124mDimension mismatch in \u001B[39m\u001B[38;5;132;01m{0!s}\u001B[39;00m\u001B[38;5;124m and np.ndarray\u001B[39m\u001B[38;5;132;01m{1!s}\u001B[39;00m\u001B[38;5;124m.\u001B[39m\u001B[38;5;124m\"\u001B[39m\u001B[38;5;241m.\u001B[39mformat(\n\u001B[0;32m    246\u001B[0m                 \u001B[38;5;28mstr\u001B[39m(\u001B[38;5;28mself\u001B[39m), \u001B[38;5;28mstr\u001B[39m(val\u001B[38;5;241m.\u001B[39mshape)\n\u001B[0;32m    247\u001B[0m             )\n\u001B[0;32m    248\u001B[0m         )\n\u001B[0;32m    249\u001B[0m     \u001B[38;5;28;01mreturn\u001B[39;00m \u001B[38;5;28mself\u001B[39m\u001B[38;5;241m.\u001B[39m_transform(val)\n\u001B[0;32m    251\u001B[0m \u001B[38;5;28;01melif\u001B[39;00m \u001B[38;5;28misinstance\u001B[39m(val, Zero):\n",
      "\u001B[1;31mValueError\u001B[0m: Dimension mismatch in ComboMap[ExpMap(206271,206271) * InjectActiveCells(206271,140766)](206271,140766) and np.ndarray(100431,)."
     ]
    }
   ],
   "execution_count": 44
  },
  {
   "metadata": {
    "ExecuteTime": {
     "end_time": "2024-04-26T09:49:16.451969Z",
     "start_time": "2024-04-26T09:49:16.440702Z"
    }
   },
   "cell_type": "code",
   "source": "\n",
   "id": "fd2101727c1363b2",
   "outputs": [],
   "execution_count": 42
  },
  {
   "metadata": {},
   "cell_type": "code",
   "outputs": [],
   "execution_count": null,
   "source": "",
   "id": "7a36c76df131c515"
  }
 ],
 "metadata": {
  "kernelspec": {
   "display_name": "Python 3 (ipykernel)",
   "language": "python",
   "name": "python3"
  },
  "language_info": {
   "codemirror_mode": {
    "name": "ipython",
    "version": 3
   },
   "file_extension": ".py",
   "mimetype": "text/x-python",
   "name": "python",
   "nbconvert_exporter": "python",
   "pygments_lexer": "ipython3",
   "version": "3.11.8"
  }
 },
 "nbformat": 4,
 "nbformat_minor": 5
}
