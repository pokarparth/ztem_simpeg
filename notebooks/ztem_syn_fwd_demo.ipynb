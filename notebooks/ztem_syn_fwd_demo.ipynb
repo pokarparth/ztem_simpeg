{
 "cells": [
  {
   "cell_type": "code",
   "execution_count": 13,
   "metadata": {
    "collapsed": true,
    "ExecuteTime": {
     "end_time": "2024-04-03T04:38:37.828526Z",
     "start_time": "2024-04-03T04:38:37.757865700Z"
    }
   },
   "outputs": [],
   "source": [
    "import numpy as np\n",
    "import time\n",
    "import matplotlib.pyplot as plt\n",
    "from matplotlib.colors import LogNorm, Normalize\n",
    "\n",
    "import discretize\n",
    "from pymatsolver import Pardiso as Solver\n",
    "from SimPEG import maps, data, utils, optimization, regularization, inverse_problem, directives, inversion, data_misfit\n",
    "# from SimPEG import maps, utils, data, optimization, maps, objective_function, regularization, inverse_problem, directives, inversion, data_misfit\n",
    "from SimPEG.electromagnetics import natural_source as nsem\n",
    "from discretize.utils import mkvc, ndgrid, active_from_xyz\n",
    "\n",
    "from SimPEG.utils import plot2Ddata, surface2ind_topo\n",
    "from pymatsolver import Pardiso as Solver\n"
   ]
  },
  {
   "cell_type": "markdown",
   "source": [
    "Forward modeling synthetic ZTEM data. Note that this notebook is decimated to be able to run on a typical laptop. The full version of the notebook is available in the repository. The notebook simulates data on one line, with a sparser mesh than typical, and only two frequencies.\n",
    "\n"
   ],
   "metadata": {
    "collapsed": false
   }
  },
  {
   "cell_type": "markdown",
   "source": [
    "## Problem set up\n",
    "Define reciever locations\n"
   ],
   "metadata": {
    "collapsed": false
   }
  },
  {
   "cell_type": "code",
   "execution_count": 2,
   "outputs": [
    {
     "data": {
      "text/plain": "<Figure size 640x480 with 1 Axes>",
      "image/png": "[encoded data removed]"
     },
     "metadata": {},
     "output_type": "display_data"
    }
   ],
   "source": [
    "receiver_locations_x = np.arange(-400,400,100)\n",
    "receiver_locations_y = np.ones_like(receiver_locations_x) * 0\n",
    "receiver_locations_z = np.ones_like(receiver_locations_x) * 50\n",
    "\n",
    "receiver_locations = np.c_[mkvc(receiver_locations_x), mkvc(receiver_locations_y), mkvc(receiver_locations_z)]\n",
    "\n",
    "plt.plot(receiver_locations[:, 0], receiver_locations[:, 1], '.')\n",
    "plt.title('Receiver locations')\n",
    "plt.show()"
   ],
   "metadata": {
    "collapsed": false,
    "ExecuteTime": {
     "end_time": "2024-04-02T18:21:44.067778900Z",
     "start_time": "2024-04-02T18:21:43.731861400Z"
    }
   }
  },
  {
   "cell_type": "markdown",
   "source": [
    "## Mesh Design\n",
    "For FDEM data, the mesh extent should be informed by the skin depth of the lowest and highest frequencies. The skin depth is given by:\n",
    "\n",
    "\\begin{equation}\n",
    "\\delta \\approx 500\\sqrt{\\frac{1}{\\sigma {f}}\n",
    "\\end{equation}\n",
    "\n",
    "For ZTEM the lowest frequency is 30 Hz and highest is 720 Hz.\n",
    "So assuming the background conductivity of 0.01 S/m,\n",
    "skin depth for the highest frequency is 188 m and for the lowest frequency is 918 m.\n",
    "\n",
    "The minimum cell size must be smaller than the minimum skin depth (typically 1/3 times), and the mesh size should extend to at least 2-3 times the maximum skin depths from the Tx."
   ],
   "metadata": {
    "collapsed": false
   }
  },
  {
   "cell_type": "markdown",
   "source": [
    "For this example we will model a block in the center of the mesh with conductivity of 10 S/m.\n",
    "For now, topography is assumed to be flat."
   ],
   "metadata": {
    "collapsed": false
   }
  },
  {
   "cell_type": "markdown",
   "source": [],
   "metadata": {
    "collapsed": false
   }
  },
  {
   "cell_type": "code",
   "execution_count": 3,
   "outputs": [
    {
     "data": {
      "text/plain": "\nOcTreeMesh: 10.69% filled\n\nLevel : Number of cells               Mesh Extent               Cell Widths    \n-----------------------           min     ,     max            min   ,   max   \n  4   :      2656            ---------------------------   --------------------\n  5   :      9542         x:    -1600.0   ,   1600.0          50.0   ,   200.0   \n  6   :      15824        y:    -1600.0   ,   1600.0          50.0   ,   200.0   \n-----------------------   z:    -1600.0   ,   1600.0          50.0   ,   200.0   \nTotal :      28022     ",
      "text/html": "<table>\n<tr>\n<td style='font-weight: bold; font-size: 1.2em; text-align: center;'>OcTreeMesh</td>\n<td style='font-size: 1.2em; text-align: center;' colspan='2'>10.69% filled</td>\n</tr>\n<tr>\n<td>\n<table>\n<tr>\n<th style='padding: 5px 20px 5px 20px;'>Level</th>\n<th style='padding: 5px 20px 5px 20px;'>Number of cells</th>\n</tr>\n<tr>\n<td style='padding: 5px 20px 5px 20px;'>4</td>\n<td style='padding: 5px 20px 5px 20px;'>2656</td>\n</tr>\n<tr>\n<td style='padding: 5px 20px 5px 20px;'>5</td>\n<td style='padding: 5px 20px 5px 20px;'>9542</td>\n</tr>\n<tr>\n<td style='padding: 5px 20px 5px 20px;'>6</td>\n<td style='padding: 5px 20px 5px 20px;'>15824</td>\n</tr>\n<tr>\n<td style='font-weight: bold; padding: 5px 20px 5px 20px;'> Total </td>\n<td style='padding: 5px 20px 5px 20px;'> 28022 </td>\n</tr>\n</table>\n</td>\n<td>\n<table>\n<tr>\n<th></th>\n<th style='padding: 5px 20px 5px 20px;' colspan='2'>Mesh extent</th>\n<th style='padding: 5px 20px 5px 20px;' colspan='2'>Cell widths</th>\n</tr>\n<tr>\n<th></th>\n<th style='padding: 5px 20px 5px 20px;'>min</th>\n<th style='padding: 5px 20px 5px 20px;'>max</th>\n<th style='padding: 5px 20px 5px 20px;'>min</th>\n<th style='padding: 5px 20px 5px 20px;'>max</th>\n</tr>\n<tr>\n<td style='padding: 5px 20px 5px 20px;'>x</td>\n<td style='padding: 5px 20px 5px 20px;'>-1600.0</td>\n<td style='padding: 5px 20px 5px 20px;'>1600.0</td>\n<td style='padding: 5px 20px 5px 20px;'>50.0</td>\n<td style='padding: 5px 20px 5px 20px;'>200.0</td>\n</tr>\n<tr>\n<td style='padding: 5px 20px 5px 20px;'>y</td>\n<td style='padding: 5px 20px 5px 20px;'>-1600.0</td>\n<td style='padding: 5px 20px 5px 20px;'>1600.0</td>\n<td style='padding: 5px 20px 5px 20px;'>50.0</td>\n<td style='padding: 5px 20px 5px 20px;'>200.0</td>\n</tr>\n<tr>\n<td style='padding: 5px 20px 5px 20px;'>z</td>\n<td style='padding: 5px 20px 5px 20px;'>-1600.0</td>\n<td style='padding: 5px 20px 5px 20px;'>1600.0</td>\n<td style='padding: 5px 20px 5px 20px;'>50.0</td>\n<td style='padding: 5px 20px 5px 20px;'>200.0</td>\n</tr>\n</table>\n</td>\n</tr>\n</table>\n"
     },
     "execution_count": 3,
     "metadata": {},
     "output_type": "execute_result"
    }
   ],
   "source": [
    "# domain OcTree mesh\n",
    "\n",
    "dh = 50.0  # base cell width\n",
    "dom_width_x = 4000.0  # domain width x\n",
    "dom_width_y = 4000.0  # domain width y\n",
    "dom_width_z = 4000.0  # domain width z\n",
    "\n",
    "# Number of base mesh cells in each direction. Must be a power of 2\n",
    "nbcx = 2 ** int(np.round(np.log(dom_width_x / dh) / np.log(2.0)))  # num. base cells x\n",
    "nbcy = 2 ** int(np.round(np.log(dom_width_y / dh) / np.log(2.0)))  # num. base cells y\n",
    "nbcz = 2 ** int(np.round(np.log(dom_width_z / dh) / np.log(2.0)))  # num. base cells z\n",
    "\n",
    "# Define the base mesh\n",
    "hx = [(dh, nbcx)]\n",
    "hy = [(dh, nbcy)]\n",
    "hz = [(dh, nbcz)]\n",
    "mesh = discretize.TreeMesh([hx, hy, hz], x0=\"CCC\")\n",
    "\n",
    "#define core extent\n",
    "core_points = ndgrid(\n",
    "    np.r_[-600, 600], np.r_[-600, 600], np.r_[-800,0]\n",
    ")\n",
    "\n",
    "#Refine mesh around core region\n",
    "mesh.refine_bounding_box(core_points, -1, padding_cells_by_level=[2, 4, 6], finalize=False)\n",
    "\n",
    "#refine around receivers\n",
    "mesh.refine_points(receiver_locations, padding_cells_by_level=[2, 4, 6], finalize=False)\n",
    "\n",
    "mesh.finalize()\n",
    "mesh"
   ],
   "metadata": {
    "collapsed": false,
    "ExecuteTime": {
     "end_time": "2024-04-02T18:21:44.379745300Z",
     "start_time": "2024-04-02T18:21:44.078788900Z"
    }
   }
  },
  {
   "cell_type": "markdown",
   "source": [
    "# Define model\n",
    "\n",
    "We create a L-shaped block around the center of the mesh with conductivity of 10 S/m. The background conductivity is 0.01 S/m.\n"
   ],
   "metadata": {
    "collapsed": false
   }
  },
  {
   "cell_type": "code",
   "execution_count": 4,
   "outputs": [],
   "source": [
    "# Define conductivity model on the mesh\n",
    "sig_back = 1e-2\n",
    "sig_block = 10\n",
    "sig_air = 1e-8\n",
    "\n",
    "model = sig_air * np.ones(mesh.nC)\n",
    "model[mesh.cell_centers[:, 2] < 0] = sig_back\n",
    "halfspace = model.copy()\n",
    "\n",
    "ind_block1 = (\n",
    "    (mesh.cell_centers[:, 0] > 0) & (mesh.cell_centers[:, 0] < 200) &\n",
    "    (mesh.cell_centers[:, 1] > -300) & (mesh.cell_centers[:, 1] < 300) &\n",
    "    (mesh.cell_centers[:, 2] > -400) & (mesh.cell_centers[:, 2] < -100)\n",
    ")\n",
    "ind_block2 = (\n",
    "    (mesh.cell_centers[:, 0] > -300) & (mesh.cell_centers[:, 0] < 0) &\n",
    "    (mesh.cell_centers[:, 1] > -100) & (mesh.cell_centers[:, 1] < 300) &\n",
    "    (mesh.cell_centers[:, 2] > -400) & (mesh.cell_centers[:, 2] < -100)\n",
    ")\n",
    "model[ind_block1] = sig_block\n",
    "model[ind_block2] = sig_block\n"
   ],
   "metadata": {
    "collapsed": false,
    "ExecuteTime": {
     "end_time": "2024-04-02T18:21:44.467664900Z",
     "start_time": "2024-04-02T18:21:44.385748800Z"
    }
   }
  },
  {
   "cell_type": "markdown",
   "source": [
    "# Mapping\n",
    "Set the mapping between the model and forward simulation\n"
   ],
   "metadata": {
    "collapsed": false
   }
  },
  {
   "cell_type": "code",
   "execution_count": 5,
   "outputs": [],
   "source": [
    "#First we need to create a boolean array to tell the simulation which cells are active\n",
    "#Air cells are excluded\n",
    "active_inds = model > sig_air\n",
    "actMap = maps.InjectActiveCells(mesh=mesh, indActive=active_inds, valInactive=np.log(sig_air))\n",
    "# Conductivity changes logarithmically so we set it as an exponential map\n",
    "mapping = maps.ExpMap(mesh) * actMap\n",
    "active_model = model[active_inds]"
   ],
   "metadata": {
    "collapsed": false,
    "ExecuteTime": {
     "end_time": "2024-04-02T18:21:44.511765100Z",
     "start_time": "2024-04-02T18:21:44.464660400Z"
    }
   }
  },
  {
   "cell_type": "code",
   "execution_count": 6,
   "outputs": [
    {
     "data": {
      "text/plain": "Text(0, 0.5, 'y (m)')"
     },
     "execution_count": 6,
     "metadata": {},
     "output_type": "execute_result"
    },
    {
     "data": {
      "text/plain": "<Figure size 1200x600 with 2 Axes>",
      "image/png": "[encoded data removed]"
     },
     "metadata": {},
     "output_type": "display_data"
    }
   ],
   "source": [
    "# Plot the model\n",
    "fig = plt.figure(figsize=(12, 6))\n",
    "\n",
    "ax1 = fig.add_subplot(121)\n",
    "out = mesh.plot_slice(np.log10(model), normal='Z', ax=ax1,ind=int(nbcz/2)-4, grid=True, pcolor_opts={\"vmin\":np.log10(sig_air), \"vmax\":np.log10(sig_block)},\n",
    "        grid_opts={\"color\":\"k\", \"lw\":0.5},)\n",
    "cb = plt.colorbar(out[0], orientation=\"vertical\")\n",
    "plt.plot(receiver_locations[:, 0], receiver_locations[:, 1], 'w.')\n",
    "ax1.set_title('Model')\n",
    "ax1.set_xlabel('x (m)')\n",
    "ax1.set_ylabel('y (m)')\n",
    "\n"
   ],
   "metadata": {
    "collapsed": false,
    "ExecuteTime": {
     "end_time": "2024-04-02T18:21:44.986179900Z",
     "start_time": "2024-04-02T18:21:44.510764800Z"
    }
   }
  },
  {
   "cell_type": "markdown",
   "source": [
    "# Define survey"
   ],
   "metadata": {
    "collapsed": false
   }
  },
  {
   "cell_type": "code",
   "execution_count": 7,
   "outputs": [],
   "source": [
    "# Choose ZTEM frequencies to simulate (currently includes 6 standard ZTEM frequencies)\n",
    "frequencies = np.r_[30, 720] # Less freqs for testing on laptop\n",
    "\n",
    "# Make a receiver list\n",
    "rx_list = []\n",
    "for rx_orientation in ['zx', 'zy']:\n",
    "\n",
    "    # specify that we are using tipper data\n",
    "    rx_real = nsem.receivers.Point3DTipper(receiver_locations, rx_orientation, \"real\")\n",
    "    rx_imag = nsem.receivers.Point3DTipper(receiver_locations, rx_orientation, \"imag\")\n",
    "\n",
    "    # append to the receiver list\n",
    "    rx_list.append(rx_real)\n",
    "    rx_list.append(rx_imag)\n",
    "\n",
    "# Source list\n",
    "source_list = [\n",
    "    nsem.sources.PlanewaveXYPrimary(rx_list, frequency=freq) for freq in frequencies\n",
    "]\n",
    "\n",
    "# Survey object\n",
    "survey = nsem.Survey(source_list)"
   ],
   "metadata": {
    "collapsed": false,
    "ExecuteTime": {
     "end_time": "2024-04-02T18:21:45.042685300Z",
     "start_time": "2024-04-02T18:21:44.990270400Z"
    }
   }
  },
  {
   "cell_type": "markdown",
   "source": [
    "# Define the forward simulation"
   ],
   "metadata": {
    "collapsed": false
   }
  },
  {
   "cell_type": "code",
   "execution_count": 8,
   "outputs": [],
   "source": [
    "#Simulate data. Note that sigmaPrimary needs to be a flattened mesh object.\n",
    "sim = nsem.Simulation3DPrimarySecondary(\n",
    "    mesh, survey=survey, solver=Solver, sigmaMap=mapping, sigmaPrimary=halfspace\n",
    ")\n",
    "\n",
    "# Predict fields and data for a synthetic model\n",
    "fields= sim.fields(model[active_inds])\n",
    "dobs = sim.dpred(model[active_inds], f=fields)"
   ],
   "metadata": {
    "collapsed": false,
    "ExecuteTime": {
     "end_time": "2024-04-02T18:22:22.113623500Z",
     "start_time": "2024-04-02T18:21:45.008665900Z"
    }
   }
  },
  {
   "cell_type": "code",
   "execution_count": 9,
   "outputs": [],
   "source": [
    "data_obj = data.Data(survey, dobs=dobs)"
   ],
   "metadata": {
    "collapsed": false,
    "ExecuteTime": {
     "end_time": "2024-04-02T18:22:22.240644800Z",
     "start_time": "2024-04-02T18:22:22.153914400Z"
    }
   }
  },
  {
   "cell_type": "code",
   "execution_count": 10,
   "outputs": [],
   "source": [
    "dobs = np.savetxt(\"ztem_syn_fwd_demo.obs\", dobs)"
   ],
   "metadata": {
    "collapsed": false,
    "ExecuteTime": {
     "end_time": "2024-04-02T18:22:22.283991700Z",
     "start_time": "2024-04-02T18:22:22.207333300Z"
    }
   }
  },
  {
   "cell_type": "markdown",
   "source": [
    "# Plot results"
   ],
   "metadata": {
    "collapsed": false
   }
  },
  {
   "cell_type": "code",
   "execution_count": 11,
   "outputs": [
    {
     "data": {
      "text/plain": "Text(0.5, 0, 'x (m)')"
     },
     "execution_count": 11,
     "metadata": {},
     "output_type": "execute_result"
    },
    {
     "data": {
      "text/plain": "<Figure size 600x800 with 4 Axes>",
      "image/png": "[encoded data removed]"
     },
     "metadata": {},
     "output_type": "display_data"
    }
   ],
   "source": [
    "fig, ax = plt.subplots(3, 1, height_ratios=[1, 1, 2], figsize=(6, 8))\n",
    "\n",
    "xlim = 620*np.r_[-1, 1]\n",
    "ylim= np.r_[-600, 120]\n",
    "src_ind = 4\n",
    "\n",
    "\n",
    "for j, src in enumerate(source_list[::2]):\n",
    "    for i, rx in enumerate(rx_list[:2]):\n",
    "        ax[i].plot(receiver_locations_x, data_obj[src, rx], \"-o\", color=f\"C{j}\", label=f\"{src.frequency:1.0f} Hz\")\n",
    "        ax[i].set_title(f\"T{rx.orientation}, {rx.component}\")\n",
    "        ax[i].set_ylabel(f\"T{rx.orientation}\")\n",
    "\n",
    "for a in ax[:2]:\n",
    "    a.grid(\"both\", alpha=0.7)\n",
    "    a.set_xticklabels(\"\")\n",
    "    a.set_xlim(xlim)\n",
    "ax[0].legend()\n",
    "\n",
    "out = mesh.plot_slice(model, normal=\"y\", ax=ax[2], pcolor_opts={\"norm\":LogNorm(vmin=1e-6, vmax=10), \"cmap\":\"Spectral_r\"})\n",
    "cb = plt.colorbar(out[0], shrink=0.4)\n",
    "cb.set_label(\"conductivity (S/m)\")\n",
    "\n",
    "ax[2].set_xlim(xlim)\n",
    "ax[2].set_ylim(ylim)\n",
    "ax[2].set_aspect(1)\n",
    "ax[2].set_title(\"\")\n",
    "ax[2].plot(receiver_locations_x, np.ones_like(receiver_locations_x)*receiver_locations_z, \"C9s\")\n",
    "\n",
    "ax[2].set_xlabel(\"x (m)\")"
   ],
   "metadata": {
    "collapsed": false,
    "ExecuteTime": {
     "end_time": "2024-04-02T18:22:26.737038800Z",
     "start_time": "2024-04-02T18:22:22.284992200Z"
    }
   }
  },
  {
   "cell_type": "code",
   "execution_count": 19,
   "outputs": [],
   "source": [
    "#Export data\n",
    "#data_obj.write(\".data/ZTEM_data.obs\")\n",
    "# Assign uncertainties\n",
    "data_obj.relative_error = 0.05  # 5% std\n",
    "data_obj.noise_floor = 0.01\n",
    "# sim.survey.std = np.abs(survey.dobs) * std\n",
    "data_obj.noise_floor[-source_list[-1].nD:] = 0.005"
   ],
   "metadata": {
    "collapsed": false,
    "ExecuteTime": {
     "end_time": "2024-04-03T04:43:54.514664800Z",
     "start_time": "2024-04-03T04:43:54.481185600Z"
    }
   }
  },
  {
   "cell_type": "markdown",
   "source": [
    "# Inversion"
   ],
   "metadata": {
    "collapsed": false
   }
  },
  {
   "cell_type": "code",
   "execution_count": 20,
   "outputs": [
    {
     "data": {
      "text/plain": "<Figure size 640x480 with 1 Axes>",
      "image/png": "[encoded data removed]"
     },
     "metadata": {},
     "output_type": "display_data"
    }
   ],
   "source": [
    "## Inversion\n",
    "plt.hist(data_obj.standard_deviation, 100)\n",
    "plt.show()\n"
   ],
   "metadata": {
    "collapsed": false,
    "ExecuteTime": {
     "end_time": "2024-04-03T04:43:57.066362600Z",
     "start_time": "2024-04-03T04:43:56.112924600Z"
    }
   }
  },
  {
   "cell_type": "code",
   "execution_count": 21,
   "outputs": [],
   "source": [
    "\n",
    "# Set the conductivity values\n",
    "sig_half = 0.01\n",
    "sig_air = 1e-8\n",
    "# Make the background model\n",
    "sigma_0 = np.ones(mesh.nC) * sig_air\n",
    "sigma_0[active_inds] = sig_half\n",
    "m_0 = np.log(sigma_0[active_inds])\n"
   ],
   "metadata": {
    "collapsed": false,
    "ExecuteTime": {
     "end_time": "2024-04-03T04:43:58.985699600Z",
     "start_time": "2024-04-03T04:43:58.969688700Z"
    }
   }
  },
  {
   "cell_type": "code",
   "execution_count": null,
   "outputs": [],
   "source": [
    "data_obj.standard_deviation"
   ],
   "metadata": {
    "collapsed": false
   }
  },
  {
   "cell_type": "code",
   "execution_count": 22,
   "outputs": [],
   "source": [
    "## Setup the inversion proceedure\n",
    "# Define a counter\n",
    "# Data misfit\n",
    "dmis = data_misfit.L2DataMisfit(data=data_obj, simulation=sim)\n",
    "# Regularization\n",
    "regmap = maps.IdentityMap(nP=int(active_inds.sum()))\n",
    "# reg = regularization.Sparse(mesh, indActive=active, mapping=regmap)\n",
    "\n",
    "reg = regularization.WeightedLeastSquares(mesh, active_cells=active_inds, mapping=regmap, reference_model=m_0)\n",
    "reg.alpha_s = 2.5e-5\n",
    "reg.alpha_x = 1.\n",
    "reg.alpha_y = 1.\n",
    "reg.alpha_z = 0.25\n",
    "\n",
    "# Optimization\n",
    "C = utils.Counter()\n",
    "opt = optimization.ProjectedGNCG(maxIter=8, upper=np.inf, lower=-np.inf, tolCG=1E-2, maxIterCG=20, )\n",
    "opt.counter = C\n",
    "opt.remember('xc')\n",
    "\n",
    "# reg.mrefInSmooth = True\n",
    "# Inversion problem\n",
    "invProb = inverse_problem.BaseInvProblem(dmis, reg, opt, beta=0.1)\n",
    "invProb.counter = C\n",
    "# Beta schedule\n",
    "beta_cool = directives.BetaSchedule(coolingFactor=5, coolingRate=3)\n",
    "# Initial estimate of beta\n",
    "# beta_est = directives.BetaEstimate_ByEig(beta0_ratio=1e0)\n",
    "# Target misfit stop\n",
    "targmis = directives.TargetMisfit()\n",
    "# targmis.target = survey.nD\n",
    "saveIter = directives.SaveModelEveryIteration()\n",
    "# Create an inversion object\n",
    "directive_list = [beta_cool, targmis, saveIter]\n",
    "inv = inversion.BaseInversion(invProb, directiveList=directive_list)"
   ],
   "metadata": {
    "collapsed": false,
    "ExecuteTime": {
     "end_time": "2024-04-03T04:44:00.523774400Z",
     "start_time": "2024-04-03T04:44:00.140841800Z"
    }
   }
  },
  {
   "cell_type": "code",
   "execution_count": 23,
   "outputs": [
    {
     "name": "stdout",
     "output_type": "stream",
     "text": [
      "\n",
      "                        SimPEG.InvProblem is setting bfgsH0 to the inverse of the eval2Deriv.\n",
      "                        ***Done using same Solver, and solver_opts as the Simulation3DPrimarySecondary problem***\n",
      "                        \n",
      "SimPEG.SaveModelEveryIteration will save your models as: '.\\###-InversionModel-2024-04-02-21-44.npy'\n",
      "model has any nan: 0\n",
      "=============================== Projected GNCG ===============================\n",
      "  #     beta     phi_d     phi_m       f      |proj(x-g)-x|  LS    Comment   \n",
      "-----------------------------------------------------------------------------\n",
      "x0 has any nan: 0\n",
      "   0  1.00e-01  1.91e+01  0.00e+00  1.91e+01    5.00e+00      0              \n",
      "------------------------- STOP! -------------------------\n",
      "1 : |fc-fOld| = 0.0000e+00 <= tolF*(1+|f0|) = 2.0134e+00\n",
      "1 : |xc-x_last| = 1.8847e+00 <= tolX*(1+|x0|) = 6.7550e+01\n",
      "0 : |proj(x-g)-x|    = 4.9970e+00 <= tolG          = 1.0000e-01\n",
      "0 : |proj(x-g)-x|    = 4.9970e+00 <= 1e3*eps       = 1.0000e-02\n",
      "0 : maxIter   =       8    <= iter          =      1\n",
      "------------------------- DONE! -------------------------\n",
      "Inversion took 145.7736508846283 seconds\n"
     ]
    }
   ],
   "source": [
    "\n",
    "start = time.time()\n",
    "# Run the inversion\n",
    "mopt = inv.run(m_0)\n",
    "print('Inversion took {0} seconds'.format(time.time() - start))\n",
    "## Model Comparison"
   ],
   "metadata": {
    "collapsed": false,
    "ExecuteTime": {
     "end_time": "2024-04-03T04:46:26.343942700Z",
     "start_time": "2024-04-03T04:44:00.509474400Z"
    }
   }
  },
  {
   "cell_type": "code",
   "execution_count": 30,
   "outputs": [
    {
     "data": {
      "text/plain": "<property at 0x199961074c0>"
     },
     "execution_count": 30,
     "metadata": {},
     "output_type": "execute_result"
    }
   ],
   "source": [
    "data_misfit.Data"
   ],
   "metadata": {
    "collapsed": false,
    "ExecuteTime": {
     "end_time": "2024-04-04T03:48:16.560089600Z",
     "start_time": "2024-04-04T03:48:16.509164Z"
    }
   }
  },
  {
   "cell_type": "code",
   "execution_count": 34,
   "outputs": [
    {
     "data": {
      "text/plain": "50.0"
     },
     "execution_count": 34,
     "metadata": {},
     "output_type": "execute_result"
    }
   ],
   "source": [
    "min(mesh.h[0])"
   ],
   "metadata": {
    "collapsed": false,
    "ExecuteTime": {
     "end_time": "2024-04-04T06:19:51.961029Z",
     "start_time": "2024-04-04T06:19:51.949888900Z"
    }
   }
  },
  {
   "cell_type": "code",
   "execution_count": null,
   "outputs": [],
   "source": [],
   "metadata": {
    "collapsed": false
   }
  }
 ],
 "metadata": {
  "kernelspec": {
   "display_name": "Python 3",
   "language": "python",
   "name": "python3"
  },
  "language_info": {
   "codemirror_mode": {
    "name": "ipython",
    "version": 2
   },
   "file_extension": ".py",
   "mimetype": "text/x-python",
   "name": "python",
   "nbconvert_exporter": "python",
   "pygments_lexer": "ipython2",
   "version": "2.7.6"
  }
 },
 "nbformat": 4,
 "nbformat_minor": 0
}
